{
 "cells": [
  {
   "cell_type": "code",
   "execution_count": null,
   "metadata": {},
   "outputs": [],
   "source": [
    "%%capture\n",
    "%pip install whylogs pybars3"
   ]
  },
  {
   "cell_type": "code",
   "execution_count": null,
   "metadata": {},
   "outputs": [],
   "source": [
    "\n",
    "import os\n",
    "\n",
    "import whylogs as why\n",
    "from whylogs.viz import NotebookProfileVisualizer\n",
    "\n",
    "from config import config"
   ]
  },
  {
   "cell_type": "code",
   "execution_count": null,
   "metadata": {},
   "outputs": [],
   "source": [
    "all_files = [f for f in os.listdir(config.WHY_LOGS_DIR) if not f.startswith('.')]\n",
    "views = []\n",
    "for file in all_files:\n",
    "    example = all_files[0]\n",
    "    path = os.path.join(config.WHY_LOGS_DIR, file)\n",
    "\n",
    "    # This .bin can be read using the path\n",
    "    result = why.read(path).view()\n",
    "    views.append(result)\n",
    "    "
   ]
  },
  {
   "cell_type": "code",
   "execution_count": null,
   "metadata": {},
   "outputs": [],
   "source": [
    "# clear empty ones\n",
    "clear_views = []\n",
    "for view in views:\n",
    "    try:\n",
    "        view.to_pandas()\n",
    "        clear_views.append(view)\n",
    "    except:\n",
    "        pass\n",
    "print(\"Clear views: \", len(clear_views))"
   ]
  },
  {
   "cell_type": "code",
   "execution_count": null,
   "metadata": {},
   "outputs": [],
   "source": [
    "clear_views[0].to_pandas()"
   ]
  },
  {
   "cell_type": "code",
   "execution_count": null,
   "metadata": {},
   "outputs": [],
   "source": [
    "visualization = NotebookProfileVisualizer()\n",
    "if len(clear_views) > 1:\n",
    "    refrence_view = clear_views[0]\n",
    "    for view in clear_views[1:-1]:\n",
    "        refrence_view.merge(view)\n",
    "    visualization.set_profiles(target_profile_view=clear_views[-1], reference_profile_view=refrence_view)\n",
    "else:\n",
    "    visualization.set_profiles(target_profile_view=clear_views[0], reference_profile_view=clear_views[0])\n",
    "visualization.summary_drift_report()"
   ]
  },
  {
   "cell_type": "code",
   "execution_count": null,
   "metadata": {},
   "outputs": [],
   "source": []
  }
 ],
 "metadata": {
  "kernelspec": {
   "display_name": "Python 3.8.6 ('venv': venv)",
   "language": "python",
   "name": "python3"
  },
  "language_info": {
   "codemirror_mode": {
    "name": "ipython",
    "version": 3
   },
   "file_extension": ".py",
   "mimetype": "text/x-python",
   "name": "python",
   "nbconvert_exporter": "python",
   "pygments_lexer": "ipython3",
   "version": "3.8.6"
  },
  "orig_nbformat": 4,
  "vscode": {
   "interpreter": {
    "hash": "69020d7b19a43e8ec8867fa1663c791f58759cdb61a011233b0a93ab7fdd0478"
   }
  }
 },
 "nbformat": 4,
 "nbformat_minor": 2
}
